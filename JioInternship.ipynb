{
  "nbformat": 4,
  "nbformat_minor": 0,
  "metadata": {
    "colab": {
      "name": "JioInternship.ipynb",
      "provenance": [],
      "authorship_tag": "ABX9TyMWocF1n4uiyN0++P6R+wzY",
      "include_colab_link": true
    },
    "kernelspec": {
      "name": "python3",
      "display_name": "Python 3"
    },
    "language_info": {
      "name": "python"
    }
  },
  "cells": [
    {
      "cell_type": "markdown",
      "metadata": {
        "id": "view-in-github",
        "colab_type": "text"
      },
      "source": [
        "<a href=\"https://colab.research.google.com/github/RomyPatel/JioInternship/blob/main/JioInternship.ipynb\" target=\"_parent\"><img src=\"https://colab.research.google.com/assets/colab-badge.svg\" alt=\"Open In Colab\"/></a>"
      ]
    },
    {
      "cell_type": "markdown",
      "metadata": {
        "id": "GaiU-8Nlh_ph"
      },
      "source": [
        "Loading the dataset"
      ]
    },
    {
      "cell_type": "code",
      "metadata": {
        "id": "4yHwhuQLhW6w"
      },
      "source": [
        "import pandas as pd\n",
        "df= pd.read_csv('/content/data_cancer.csv')\n",
        "df"
      ],
      "execution_count": null,
      "outputs": []
    },
    {
      "cell_type": "markdown",
      "metadata": {
        "id": "gB-A3OW3wjqj"
      },
      "source": [
        "Analysis"
      ]
    },
    {
      "cell_type": "code",
      "metadata": {
        "id": "DUv9TqSthsh3"
      },
      "source": [
        "df.info()"
      ],
      "execution_count": null,
      "outputs": []
    },
    {
      "cell_type": "markdown",
      "metadata": {
        "id": "S0CwKJUmwl2p"
      },
      "source": [
        "Cleaning data"
      ]
    },
    {
      "cell_type": "code",
      "metadata": {
        "id": "OBft56E-iYgQ"
      },
      "source": [
        "df= df.drop(['id'], axis=1)\n",
        "df= df.dropna()\n",
        "df"
      ],
      "execution_count": null,
      "outputs": []
    },
    {
      "cell_type": "code",
      "metadata": {
        "id": "6dbH7ZdEimR2"
      },
      "source": [
        "df['diagnosis']= df['diagnosis'].astype('category').cat.codes\n",
        "df"
      ],
      "execution_count": null,
      "outputs": []
    },
    {
      "cell_type": "markdown",
      "metadata": {
        "id": "9lafKqBmwqOJ"
      },
      "source": [
        "Reduction of dataset"
      ]
    },
    {
      "cell_type": "code",
      "metadata": {
        "id": "dw73Ult4mrtQ"
      },
      "source": [
        "correlation_matrix= df.corr()\n",
        "correlation_matrix"
      ],
      "execution_count": null,
      "outputs": []
    },
    {
      "cell_type": "code",
      "metadata": {
        "id": "h6iRIaGqoZO7"
      },
      "source": [
        "import seaborn as sns\n",
        "import matplotlib.pyplot as plt\n",
        "plt.subplots(figsize=(20,10))\n",
        "sns.heatmap(correlation_matrix,square=True)"
      ],
      "execution_count": null,
      "outputs": []
    },
    {
      "cell_type": "markdown",
      "metadata": {
        "id": "8H_u2I6Vmctr"
      },
      "source": [
        "Selected features\n",
        "- radius mean\n",
        "- perimeter_mean\t\n",
        "- area_mean\n",
        "- compactness_mean\n",
        "- concavity_mean\t\n",
        "- concave points_mean\n",
        "- radius_se\n",
        "- perimeter_se\t\n",
        "- area_se\n",
        "- radius_worst\n",
        "- perimeter_worst\t\n",
        "- area_worst\n",
        "- compactness_worst\t\n",
        "- concavity_worst\t\n",
        "- concave points_worst\t"
      ]
    },
    {
      "cell_type": "code",
      "metadata": {
        "id": "JyyqUE7El38S"
      },
      "source": [
        "df_final= df[['diagnosis', 'radius_mean', 'perimeter_mean', 'area_mean', 'compactness_mean', 'concavity_mean', 'concave points_mean', 'radius_se', 'perimeter_se', 'area_se', 'radius_worst', 'perimeter_worst', 'area_worst', 'compactness_worst', 'concavity_worst', 'concave points_worst' ]]\n",
        "df_final"
      ],
      "execution_count": null,
      "outputs": []
    },
    {
      "cell_type": "code",
      "metadata": {
        "id": "x1S-agdUr1AR"
      },
      "source": [
        "import seaborn as sns\n",
        "import matplotlib.pyplot as plt\n",
        "plt.subplots(figsize=(20,10))\n",
        "sns.heatmap(df_final.corr(),square=True)"
      ],
      "execution_count": null,
      "outputs": []
    },
    {
      "cell_type": "markdown",
      "metadata": {
        "id": "kOYskricsCdE"
      },
      "source": [
        "We find that\n",
        "\n",
        "1) perimeter_mean, area_mean, perimeter_worst and area_worst are interdependent\n",
        "\n",
        "2) compactness_mean, concavity_mean, concave points_mean, compactness_worst, concavity_worst, concave points_worst are interdependent\n",
        "\n",
        "3) radius_se, perimeter_se and area_se are interdependent"
      ]
    },
    {
      "cell_type": "markdown",
      "metadata": {
        "id": "WEYQK-vpwxJM"
      },
      "source": [
        "Statistical analysis"
      ]
    },
    {
      "cell_type": "code",
      "metadata": {
        "id": "sf0JGokzsUyZ"
      },
      "source": [
        "plt.scatter(df['radius_mean'], df['perimeter_mean'], c='r')\n",
        "plt.scatter(df['radius_mean'], df['area_mean'], c='b')\n",
        "plt.scatter(df['radius_mean'], df['perimeter_worst'], c='g')\n",
        "plt.scatter(df['radius_mean'], df['area_worst'], c='y')\n",
        "plt.show()"
      ],
      "execution_count": null,
      "outputs": []
    },
    {
      "cell_type": "markdown",
      "metadata": {
        "id": "O5fMXgcrtPL-"
      },
      "source": [
        "So we select radius_mean and reject perimeter_mean, area_mean, perimeter_worst, area_worst"
      ]
    },
    {
      "cell_type": "code",
      "metadata": {
        "id": "1Pzi_UUPtegh"
      },
      "source": [
        "df_final= df_final.drop(['perimeter_mean', 'area_mean', 'perimeter_worst', 'area_worst'], axis= 1)\n",
        "df_final"
      ],
      "execution_count": null,
      "outputs": []
    },
    {
      "cell_type": "code",
      "metadata": {
        "id": "wJ4-BNQLvJsj"
      },
      "source": [
        "plt.scatter(df['concave points_worst'], df['compactness_mean'], c='r')\n",
        "plt.scatter(df['concave points_worst'], df['concavity_mean'], c='b')\n",
        "plt.scatter(df['concave points_worst'], df['concave points_mean'], c='g')\n",
        "plt.scatter(df['concave points_worst'], df['compactness_worst'], c='y')\n",
        "plt.scatter(df['concave points_worst'], df['concavity_worst'], c='w')\n",
        "plt.show()"
      ],
      "execution_count": null,
      "outputs": []
    },
    {
      "cell_type": "markdown",
      "metadata": {
        "id": "xwEOfEEUvxXo"
      },
      "source": [
        "Because of more randomness in data we retain all the features"
      ]
    },
    {
      "cell_type": "code",
      "metadata": {
        "id": "RSvVAN_1v_G_"
      },
      "source": [
        "plt.scatter(df['radius_se'], df['perimeter_se'], c='r')\n",
        "plt.scatter(df['radius_se'], df['area_se'], c='b')\n",
        "plt.show()"
      ],
      "execution_count": null,
      "outputs": []
    },
    {
      "cell_type": "markdown",
      "metadata": {
        "id": "dZY2q0VwwKf0"
      },
      "source": [
        "So we retain radius_se and drop parameter_se and area_se"
      ]
    },
    {
      "cell_type": "code",
      "metadata": {
        "id": "kH1vD-KnwU-N"
      },
      "source": [
        "df_final= df_final.drop(['perimeter_se', 'area_se'], axis= 1)\n",
        "df_final"
      ],
      "execution_count": null,
      "outputs": []
    },
    {
      "cell_type": "markdown",
      "metadata": {
        "id": "sRAaWZidx7VV"
      },
      "source": [
        "Feature and target selection"
      ]
    },
    {
      "cell_type": "code",
      "metadata": {
        "id": "ve_e4tUChvcu"
      },
      "source": [
        "# input and output\n",
        "x= df.iloc[:,1:].values\n",
        "y= df.iloc[:,0].values"
      ],
      "execution_count": null,
      "outputs": []
    },
    {
      "cell_type": "markdown",
      "metadata": {
        "id": "nEaHwWw-x9-f"
      },
      "source": [
        "Spliting data"
      ]
    },
    {
      "cell_type": "code",
      "metadata": {
        "id": "H37XkYDeiUOe"
      },
      "source": [
        "from sklearn.model_selection import train_test_split\n",
        "x_train,x_test,y_train,y_test= train_test_split(x,y,test_size= 0.25, random_state= 0)\n",
        "print(x_train.shape)\n",
        "print(x_test.shape)"
      ],
      "execution_count": null,
      "outputs": []
    },
    {
      "cell_type": "code",
      "metadata": {
        "id": "CrrDVeFcyS6h"
      },
      "source": [
        "import numpy as np\n",
        "print(np.unique(y_train, return_counts= True))\n",
        "print(np.unique(y_test, return_counts= True))"
      ],
      "execution_count": null,
      "outputs": []
    },
    {
      "cell_type": "markdown",
      "metadata": {
        "id": "XS9copZ0ymzk"
      },
      "source": [
        "Since it is an imbalanced data we will focus on precision and recall "
      ]
    },
    {
      "cell_type": "markdown",
      "metadata": {
        "id": "ZIsLJkdpxquF"
      },
      "source": [
        "Normalization"
      ]
    },
    {
      "cell_type": "code",
      "metadata": {
        "id": "ojvvIf4XxkZY"
      },
      "source": [
        "from sklearn.preprocessing import MinMaxScaler\n",
        "s= MinMaxScaler()\n",
        "x_train= s.fit_transform(x_train)\n",
        "x_test= s.transform(x_test)"
      ],
      "execution_count": null,
      "outputs": []
    },
    {
      "cell_type": "markdown",
      "metadata": {
        "id": "9SeJSkBRxviA"
      },
      "source": [
        "Building model"
      ]
    },
    {
      "cell_type": "code",
      "metadata": {
        "id": "fBDp6iZdj_3v"
      },
      "source": [
        "from sklearn.linear_model import LogisticRegression\n",
        "model= LogisticRegression()\n",
        "model.fit(x_train,y_train)"
      ],
      "execution_count": null,
      "outputs": []
    },
    {
      "cell_type": "markdown",
      "metadata": {
        "id": "z1ChI8vCyHvm"
      },
      "source": [
        "Prediction"
      ]
    },
    {
      "cell_type": "code",
      "metadata": {
        "id": "HH2wb5LmkEqR"
      },
      "source": [
        "y_pred= model.predict(x_test)\n",
        "y_pred"
      ],
      "execution_count": null,
      "outputs": []
    },
    {
      "cell_type": "markdown",
      "metadata": {
        "id": "-yWNKneWyJ6y"
      },
      "source": [
        "Evaluation"
      ]
    },
    {
      "cell_type": "code",
      "metadata": {
        "id": "P82R8RizmBrS"
      },
      "source": [
        "from sklearn.metrics import accuracy_score, confusion_matrix, classification_report\n",
        "print(confusion_matrix(y_pred, y_test))"
      ],
      "execution_count": null,
      "outputs": []
    },
    {
      "cell_type": "code",
      "metadata": {
        "id": "fsoJtuoOmGIE"
      },
      "source": [
        "print(accuracy_score(y_pred,y_test)*100)"
      ],
      "execution_count": null,
      "outputs": []
    },
    {
      "cell_type": "code",
      "metadata": {
        "id": "0VNZRoaHmKt0"
      },
      "source": [
        "print(classification_report(y_pred, y_test))"
      ],
      "execution_count": null,
      "outputs": []
    },
    {
      "cell_type": "code",
      "metadata": {
        "id": "0kgx84Y8mNw5"
      },
      "source": [
        ""
      ],
      "execution_count": null,
      "outputs": []
    }
  ]
}